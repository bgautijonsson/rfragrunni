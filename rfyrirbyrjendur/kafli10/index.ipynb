{
  "cells": [
    {
      "cell_type": "raw",
      "metadata": {},
      "source": [
        "---\n",
        "title: \"Línuleg aðhvarfsgreining\"\n",
        "---"
      ],
      "id": "13225911"
    },
    {
      "cell_type": "markdown",
      "metadata": {},
      "source": [
        "Aðhvarfsgreining er notuð til að kanna samband milli einnar samfelldrar svarbreytu og einnar eða fleiri skýribreyta sem geta hvort sem heldur verið samfelldar eða strjálar. Í einfaldasta tilvikinu er eingöngu ein samfelld skýribreyta og er þá talað um einfalt línulegt aðhvarf. Því tilviki helgum við meginhluta kaflans en útfærslur með strjálli skýribreytu sem og fleiri en einni skýribreytu eru ræddar undir lok hans.\n",
        "\n",
        "```{webr-r}\n",
        "#| context: setup\n",
        "\n",
        "x <- rnorm(100)\n",
        "y <- rnorm(100, mean = 0.5 + x)\n",
        "\n",
        "teikna_linu <- function(a, b) {\n",
        "  ggplot() +\n",
        "    geom_point(aes(x = x, y = y))\n",
        "}\n",
        "```\n",
        "\n",
        "\n",
        "```{webr}\n",
        "teikna_linu(0, 1)\n",
        "```\n",
        "\n",
        "\n",
        "Í kafla 10.1 kynntum við skipunina lm() sem metur einfalt línulegt aðhvarf og skoðum úttak hennar með summary(). Þar næst, í kafla 10.2, skoðum við hvernig skipunin confint() gefur okkur öryggisbil fyrir stuðla líkansins. Í kafla 10.3 könnum við mátgæði líkansins með fallinu resid() og í kafla 10.4 sjáum við hvernig framkvæma má spár með fallinu predict(). Að lokum fjallar kafli 10.5 um hvernig framkvæma má tilgátupróf fyrir fylgnistuðul með cor.test()."
      ],
      "id": "736e1794"
    }
  ],
  "metadata": {
    "kernelspec": {
      "display_name": "Python 3",
      "language": "python",
      "name": "python3"
    }
  },
  "nbformat": 4,
  "nbformat_minor": 5
}